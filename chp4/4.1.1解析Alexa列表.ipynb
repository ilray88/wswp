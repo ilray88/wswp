{
 "cells": [
  {
   "cell_type": "code",
   "execution_count": 1,
   "metadata": {
    "collapsed": true
   },
   "outputs": [],
   "source": [
    "import csv\n",
    "from zipfile import ZipFile\n",
    "from io import TextIOWrapper, BytesIO\n",
    "import requests\n",
    "\n",
    "resp = requests.get('http://s3.amazonaws.com/alexa-static/top-1m.csv.zip', stream=True)\n",
    "urls = []  # top 1 million URL's will be stored in this list\n",
    "with ZipFile(BytesIO(resp.content)) as zf:\n",
    "    csv_filename = zf.namelist()[0]\n",
    "    with zf.open(csv_filename) as csv_file:\n",
    "        for _, website in csv.reader(TextIOWrapper(csv_file)):\n",
    "            urls.append('http://' + website)"
   ]
  },
  {
   "cell_type": "code",
   "execution_count": null,
   "outputs": [],
   "source": [],
   "metadata": {
    "collapsed": false,
    "pycharm": {
     "name": "#%%\n"
    }
   }
  }
 ],
 "metadata": {
  "kernelspec": {
   "name": "pycharm-4aac85bb",
   "language": "python",
   "display_name": "PyCharm (HeiKeGongFang)"
  },
  "language_info": {
   "codemirror_mode": {
    "name": "ipython",
    "version": 2
   },
   "file_extension": ".py",
   "mimetype": "text/x-python",
   "name": "python",
   "nbconvert_exporter": "python",
   "pygments_lexer": "ipython2",
   "version": "2.7.6"
  }
 },
 "nbformat": 4,
 "nbformat_minor": 0
}