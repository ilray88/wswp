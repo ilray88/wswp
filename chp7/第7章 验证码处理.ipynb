{
 "cells": [
  {
   "cell_type": "code",
   "execution_count": 13,
   "metadata": {
    "collapsed": true
   },
   "outputs": [
    {
     "data": {
      "text/plain": "{'_formkey': '7a44e82e-45c4-40a6-a9c1-bc17f3d9c6b3',\n '_formname': 'register',\n '_next': '/places/default/index',\n 'email': '',\n 'first_name': '',\n 'last_name': '',\n 'password': '',\n 'password_two': '',\n 'recaptcha_response_field': None}"
     },
     "execution_count": 13,
     "metadata": {},
     "output_type": "execute_result"
    }
   ],
   "source": [
    "from chp6.login import parse_form\n",
    "import requests\n",
    "import os\n",
    "os.environ[\"http_proxy\"] = \"http://192.168.5.1:7890\"\n",
    "os.environ[\"https_proxy\"] = \"http://192.168.5.1:7890\"\n",
    "\n",
    "REGISTER_URL = 'http://example.python-scraping.com/user/register'\n",
    "session = requests.Session()\n",
    "html = session.get(REGISTER_URL)\n",
    "form = parse_form(html.content)\n",
    "form"
   ]
  },
  {
   "cell_type": "code",
   "execution_count": 14,
   "outputs": [
    {
     "name": "stdout",
     "output_type": "stream",
     "text": [
      "Looking in indexes: https://pypi.python.org/simple\n",
      "Requirement already satisfied: Pillow in d:\\0ilraypan\\python_work\\env\\hack\\lib\\site-packages (8.4.0)\n",
      "Looking in indexes: https://pypi.python.org/simple\n",
      "Requirement already satisfied: pytesseract in d:\\0ilraypan\\python_work\\env\\hack\\lib\\site-packages (0.3.8)\n",
      "Requirement already satisfied: Pillow in d:\\0ilraypan\\python_work\\env\\hack\\lib\\site-packages (from pytesseract) (8.4.0)\n"
     ]
    }
   ],
   "source": [
    "!pip install Pillow\n",
    "!pip install pytesseract"
   ],
   "metadata": {
    "collapsed": false,
    "pycharm": {
     "name": "#%%\n"
    }
   }
  },
  {
   "cell_type": "markdown",
   "source": [
    "### 7.2光学字符识别\n",
    "\n"
   ],
   "metadata": {
    "collapsed": false,
    "pycharm": {
     "name": "#%% md\n"
    }
   }
  },
  {
   "cell_type": "code",
   "execution_count": 15,
   "outputs": [
    {
     "data": {
      "text/plain": "' \\n\\n'"
     },
     "execution_count": 15,
     "metadata": {},
     "output_type": "execute_result"
    }
   ],
   "source": [
    "from chp7.image_processing import get_captcha_img\n",
    "import pytesseract\n",
    "img = get_captcha_img(html.content)\n",
    "pytesseract.image_to_string(img)\n",
    "\n"
   ],
   "metadata": {
    "collapsed": false,
    "pycharm": {
     "name": "#%%\n"
    }
   }
  },
  {
   "cell_type": "code",
   "execution_count": 16,
   "outputs": [],
   "source": [
    "img.save('captcha_original.png')\n",
    "gray = img.convert('L')\n",
    "gray.save('captcha_gray.png')\n",
    "bw = gray.point(lambda x: 0 if x < 1 else 255, '1')\n",
    "bw.save('captcha_thresholded.png')\n"
   ],
   "metadata": {
    "collapsed": false,
    "pycharm": {
     "name": "#%%\n"
    }
   }
  },
  {
   "cell_type": "code",
   "execution_count": 17,
   "outputs": [
    {
     "data": {
      "text/plain": "'crush\\n\\n'"
     },
     "execution_count": 17,
     "metadata": {},
     "output_type": "execute_result"
    }
   ],
   "source": [
    "pytesseract.image_to_string(bw)"
   ],
   "metadata": {
    "collapsed": false,
    "pycharm": {
     "name": "#%%\n"
    }
   }
  },
  {
   "cell_type": "code",
   "execution_count": 19,
   "outputs": [],
   "source": [
    "import string\n",
    "word = pytesseract.image_to_string(bw)\n",
    "ascii_word = ''.join(c for c in word.lower() if c in string.ascii_lowercase)"
   ],
   "metadata": {
    "collapsed": false,
    "pycharm": {
     "name": "#%% 由于示例文本总是小写的ASCII字符，因此我们可以将结果限定在这些字符中，从而进一步提高性能\n"
    }
   }
  },
  {
   "cell_type": "code",
   "execution_count": 24,
   "outputs": [
    {
     "name": "stdout",
     "output_type": "stream",
     "text": [
      "removed bad characters: {'\\n'}\n"
     ]
    },
    {
     "data": {
      "text/plain": "True"
     },
     "execution_count": 24,
     "metadata": {},
     "output_type": "execute_result"
    }
   ],
   "source": [
    "from chp7.register_with_ocr import register\n",
    "\n",
    "register('chen', 'zijia', '123@123.com', '123123')"
   ],
   "metadata": {
    "collapsed": false,
    "pycharm": {
     "name": "#%%\n"
    }
   }
  },
  {
   "cell_type": "markdown",
   "source": [
    "7.4使用验证码处理服务"
   ],
   "metadata": {
    "collapsed": false,
    "pycharm": {
     "name": "#%% md\n"
    }
   }
  },
  {
   "cell_type": "code",
   "execution_count": null,
   "outputs": [],
   "source": [],
   "metadata": {
    "collapsed": false,
    "pycharm": {
     "name": "#%%\n"
    }
   }
  }
 ],
 "metadata": {
  "kernelspec": {
   "display_name": "Python 3",
   "language": "python",
   "name": "python3"
  },
  "language_info": {
   "codemirror_mode": {
    "name": "ipython",
    "version": 2
   },
   "file_extension": ".py",
   "mimetype": "text/x-python",
   "name": "python",
   "nbconvert_exporter": "python",
   "pygments_lexer": "ipython2",
   "version": "2.7.6"
  }
 },
 "nbformat": 4,
 "nbformat_minor": 0
}