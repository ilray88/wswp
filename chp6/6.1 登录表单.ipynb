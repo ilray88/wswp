{
 "cells": [
  {
   "cell_type": "markdown",
   "metadata": {
    "collapsed": true,
    "pycharm": {
     "name": "#%% md\n"
    }
   },
   "source": [
    "当普通用户通过浏览器打开该网页时，需要输入邮箱和密码，然后单击登录\n",
    "按钮将数据提交到服务端。如果登录成功，则会跳转到主页；否则，会跳转回登录\n",
    "页。下面是尝试自动化处理该流程的初始版本代码"
   ]
  },
  {
   "cell_type": "code",
   "execution_count": 3,
   "outputs": [
    {
     "name": "stdout",
     "output_type": "stream",
     "text": [
      "http://example.python-scraping.com/user/login\n"
     ]
    }
   ],
   "source": [
    "from urllib.parse import urlencode\n",
    "from urllib.request import Request, urlopen\n",
    "LOGIN_URL = 'http://example.python-scraping.com/user/login'\n",
    "LOGIN_EMAIL = 'example@python-scraping.com'\n",
    "LOGIN_PASSWORD = 'example'\n",
    "data = {'email': LOGIN_EMAIL, 'password': LOGIN_PASSWORD}\n",
    "encoded_data = urlencode(data)\n",
    "request = Request(LOGIN_URL, encoded_data.encode('utf-8'))\n",
    "response = urlopen(request)\n",
    "print(response.geturl())"
   ],
   "metadata": {
    "collapsed": false,
    "pycharm": {
     "name": "#%%\n"
    }
   }
  },
  {
   "cell_type": "markdown",
   "source": [
    "我们可以使用requests以几行代码实现同样的处理。"
   ],
   "metadata": {
    "collapsed": false,
    "pycharm": {
     "name": "#%% md\n"
    }
   }
  },
  {
   "cell_type": "code",
   "execution_count": 4,
   "outputs": [
    {
     "name": "stdout",
     "output_type": "stream",
     "text": [
      "http://example.python-scraping.com/user/login\n"
     ]
    }
   ],
   "source": [
    "import requests\n",
    "response = requests.post(LOGIN_URL, data)\n",
    "print(response.url)"
   ],
   "metadata": {
    "collapsed": false,
    "pycharm": {
     "name": "#%%\n"
    }
   }
  },
  {
   "cell_type": "code",
   "execution_count": 5,
   "outputs": [
    {
     "name": "stdout",
     "output_type": "stream",
     "text": [
      "{'email': '', 'password': '', 'remember_me': 'on', '_next': '/places/default/index', '_formkey': '92d13291-63e1-4f5b-a531-b061a2e3bfbc', '_formname': 'login'}\n"
     ]
    }
   ],
   "source": [
    "from chp6.login import parse_form\n",
    "html = requests.get(LOGIN_URL)\n",
    "form = parse_form(html.content)\n",
    "print(form)\n"
   ],
   "metadata": {
    "collapsed": false,
    "pycharm": {
     "name": "#%%\n"
    }
   }
  },
  {
   "cell_type": "code",
   "execution_count": 6,
   "outputs": [
    {
     "data": {
      "text/plain": "'http://example.python-scraping.com/user/login'"
     },
     "execution_count": 6,
     "metadata": {},
     "output_type": "execute_result"
    }
   ],
   "source": [
    "html = requests.get(LOGIN_URL)\n",
    "data = parse_form(html.content)\n",
    "data['email'] = LOGIN_EMAIL\n",
    "data['password'] = LOGIN_PASSWORD\n",
    "response = requests.post(LOGIN_URL, data)\n",
    "response.url\n"
   ],
   "metadata": {
    "collapsed": false,
    "pycharm": {
     "name": "#%%\n"
    }
   }
  },
  {
   "cell_type": "code",
   "execution_count": 7,
   "outputs": [
    {
     "data": {
      "text/plain": "['session_data_places', 'session_id_places']"
     },
     "execution_count": 7,
     "metadata": {},
     "output_type": "execute_result"
    }
   ],
   "source": [
    "response.cookies.keys()"
   ],
   "metadata": {
    "collapsed": false,
    "pycharm": {
     "name": "#%%\n"
    }
   }
  },
  {
   "cell_type": "code",
   "execution_count": 8,
   "outputs": [
    {
     "data": {
      "text/plain": "['\"hmac256:3c152e5fc72c3ec5fe9b2db2fb5d26a97c52c5b704590dfbd4115811ca89bd93:rRNFerpTmM8xr6xBl6CyZJVCvMAwNY4tcNcDDVLLcBO7nse4xIZnOhhtpUaqq6VmZ77sS5jO6N6q7DxEKFqy_X6bFqL3kJ3nF3Y-dETztJlfNsCKor9XRyf3kQBjum-s2aeTpBv83WGIXcSJP3M-fa_gip8MVeODjbpdZMyIOtNs5gV-TGwSOtMBDx-9VeE2-PGDCL-wLOwWySTryJQWERtQgNtIP4ORCASTelLuZ7Nro6g4GfZJsoHgcqR1dKOdYYrhF3PXpu-0FX-RSYrf9s0oi56Z26TbM-H4Y9_TUwIUP_OOVngM9A8tsfJSHYk78fZl8SZnCUt-zkxRjsowfkV9-DRv2-57AjanmDx4rPuVQYJus3aTV3VgkmDTQvxk\"',\n 'True']"
     },
     "execution_count": 8,
     "metadata": {},
     "output_type": "execute_result"
    }
   ],
   "source": [
    "response.cookies.values()"
   ],
   "metadata": {
    "collapsed": false,
    "pycharm": {
     "name": "#%%\n"
    }
   }
  },
  {
   "cell_type": "code",
   "execution_count": 10,
   "outputs": [
    {
     "data": {
      "text/plain": "'http://example.python-scraping.com/places/default/index'"
     },
     "execution_count": 10,
     "metadata": {},
     "output_type": "execute_result"
    }
   ],
   "source": [
    "second_response = requests.post(LOGIN_URL, data, cookies=html.cookies)\n",
    "second_response.url"
   ],
   "metadata": {
    "collapsed": false,
    "pycharm": {
     "name": "#%%\n"
    }
   }
  },
  {
   "cell_type": "markdown",
   "source": [
    "## 6.1.1从浏览器加载cookie"
   ],
   "metadata": {
    "collapsed": false,
    "pycharm": {
     "name": "#%% md\n"
    }
   }
  },
  {
   "cell_type": "code",
   "execution_count": null,
   "outputs": [],
   "source": [],
   "metadata": {
    "collapsed": false,
    "pycharm": {
     "name": "#%%\n"
    }
   }
  }
 ],
 "metadata": {
  "kernelspec": {
   "display_name": "Python 3",
   "language": "python",
   "name": "python3"
  },
  "language_info": {
   "codemirror_mode": {
    "name": "ipython",
    "version": 2
   },
   "file_extension": ".py",
   "mimetype": "text/x-python",
   "name": "python",
   "nbconvert_exporter": "python",
   "pygments_lexer": "ipython2",
   "version": "2.7.6"
  }
 },
 "nbformat": 4,
 "nbformat_minor": 0
}