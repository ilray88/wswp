{
 "cells": [
  {
   "cell_type": "code",
   "execution_count": 7,
   "metadata": {
    "collapsed": true
   },
   "outputs": [
    {
     "data": {
      "text/plain": "{'_formkey': '3be15b5e-74b8-424c-a72a-1121723712d7',\n '_formname': 'places/6434609',\n 'area': '244820.00',\n 'capital': 'London',\n 'continent': 'EU',\n 'currency_code': 'GBP',\n 'currency_name': 'Pound',\n 'id': '6434609',\n 'languages': 'en-GB,cy-GB,gd',\n 'neighbours': 'IE',\n 'phone': '44',\n 'population': '62348449',\n 'postal_code_format': '@# #@@|@## #@@|@@# #@@|@@## #@@|@#@ #@@|@@#@ #@@|GIR0AA',\n 'postal_code_regex': '^(([A-Z]\\\\d{2}[A-Z]{2})|([A-Z]\\\\d{3}[A-Z]{2})|([A-Z]{2}\\\\d{2}[A-Z]{2})|([A-Z]{2}\\\\d{3}[A-Z]{2})|([A-Z]\\\\d[A-Z]\\\\d[A-Z]{2})|([A-Z]{2}\\\\d[A-Z]\\\\d[A-Z]{2})|(GIR0AA))$',\n 'tld': '.uk'}"
     },
     "execution_count": 7,
     "metadata": {},
     "output_type": "execute_result"
    }
   ],
   "source": [
    "import os\n",
    "os.environ[\"http_proxy\"] = \"http://192.168.5.1:7890\"\n",
    "os.environ[\"https_proxy\"] = \"http://192.168.5.1:7890\"\n",
    "\n",
    "import requests\n",
    "from chp6.login import login, parse_form\n",
    "session = requests.Session()\n",
    "COUNTRY_URL = 'http://example.python-scraping.com/edit/United-Kingdom-233'\n",
    "response, session = login(session=session)\n",
    "country_or_district_html = session.get(COUNTRY_URL)\n",
    "data = parse_form(country_or_district_html.content)\n",
    "data"
   ]
  },
  {
   "cell_type": "code",
   "execution_count": 8,
   "outputs": [],
   "source": [
    "data['population'] = int(data['population']) + 1\n",
    "response = session.post(COUNTRY_URL, data)"
   ],
   "metadata": {
    "collapsed": false,
    "pycharm": {
     "name": "#%%\n"
    }
   }
  },
  {
   "cell_type": "code",
   "execution_count": 9,
   "outputs": [
    {
     "data": {
      "text/plain": "{'_formkey': '3be15b5e-74b8-424c-a72a-1121723712d7',\n '_formname': 'places/6434609',\n 'area': '244820.00',\n 'capital': 'London',\n 'continent': 'EU',\n 'currency_code': 'GBP',\n 'currency_name': 'Pound',\n 'id': '6434609',\n 'languages': 'en-GB,cy-GB,gd',\n 'neighbours': 'IE',\n 'phone': '44',\n 'population': 62348450,\n 'postal_code_format': '@# #@@|@## #@@|@@# #@@|@@## #@@|@#@ #@@|@@#@ #@@|GIR0AA',\n 'postal_code_regex': '^(([A-Z]\\\\d{2}[A-Z]{2})|([A-Z]\\\\d{3}[A-Z]{2})|([A-Z]{2}\\\\d{2}[A-Z]{2})|([A-Z]{2}\\\\d{3}[A-Z]{2})|([A-Z]\\\\d[A-Z]\\\\d[A-Z]{2})|([A-Z]{2}\\\\d[A-Z]\\\\d[A-Z]{2})|(GIR0AA))$',\n 'tld': '.uk'}"
     },
     "execution_count": 9,
     "metadata": {},
     "output_type": "execute_result"
    }
   ],
   "source": [
    "data\n"
   ],
   "metadata": {
    "collapsed": false,
    "pycharm": {
     "name": "#%%\n"
    }
   }
  },
  {
   "cell_type": "code",
   "execution_count": null,
   "outputs": [],
   "source": [],
   "metadata": {
    "collapsed": false,
    "pycharm": {
     "name": "#%%\n"
    }
   }
  }
 ],
 "metadata": {
  "kernelspec": {
   "display_name": "Python 3",
   "language": "python",
   "name": "python3"
  },
  "language_info": {
   "codemirror_mode": {
    "name": "ipython",
    "version": 2
   },
   "file_extension": ".py",
   "mimetype": "text/x-python",
   "name": "python",
   "nbconvert_exporter": "python",
   "pygments_lexer": "ipython2",
   "version": "2.7.6"
  }
 },
 "nbformat": 4,
 "nbformat_minor": 0
}