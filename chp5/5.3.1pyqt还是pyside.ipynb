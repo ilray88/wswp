{
 "cells": [
  {
   "cell_type": "code",
   "execution_count": 8,
   "outputs": [
    {
     "name": "stdout",
     "output_type": "stream",
     "text": [
      "Loaded from cache: http://example.python-scraping.com/dynamic\n"
     ]
    },
    {
     "data": {
      "text/plain": "''"
     },
     "execution_count": 8,
     "metadata": {},
     "output_type": "execute_result"
    }
   ],
   "source": [
    "import os\n",
    "os.environ[\"http_proxy\"] = \"http://192.168.5.1:7890\"\n",
    "os.environ[\"https_proxy\"] = \"http://192.168.5.1:7890\"\n",
    "\n",
    "import lxml.html\n",
    "from chp3.downloader import Downloader\n",
    "D = Downloader()\n",
    "url = 'http://example.python-scraping.com/dynamic'\n",
    "html = D(url)\n",
    "tree = lxml.html.fromstring(html)\n",
    "tree.cssselect('#result')[0].text_content()"
   ],
   "metadata": {
    "collapsed": false,
    "pycharm": {
     "name": "#%%\n"
    }
   }
  },
  {
   "cell_type": "code",
   "execution_count": 7,
   "outputs": [
    {
     "name": "stdout",
     "output_type": "stream",
     "text": [
      "Looking in indexes: https://pypi.python.org/simple\n",
      "Collecting cssselect\n",
      "  Using cached cssselect-1.1.0-py2.py3-none-any.whl (16 kB)\n",
      "Installing collected packages: cssselect\n",
      "Successfully installed cssselect-1.1.0\n"
     ]
    },
    {
     "name": "stderr",
     "output_type": "stream",
     "text": [
      "WARNING: pip is being invoked by an old script wrapper. This will fail in a future version of pip.\n",
      "Please see https://github.com/pypa/pip/issues/5599 for advice on fixing the underlying issue.\n",
      "To avoid this problem you can invoke Python with '-m pip' instead of running pip directly.\n"
     ]
    }
   ],
   "source": [
    "!pip install cssselect\n"
   ],
   "metadata": {
    "collapsed": false,
    "pycharm": {
     "name": "#%%\n"
    }
   }
  },
  {
   "cell_type": "code",
   "execution_count": 10,
   "outputs": [
    {
     "data": {
      "text/plain": "'Hello World'"
     },
     "execution_count": 10,
     "metadata": {},
     "output_type": "execute_result"
    }
   ],
   "source": [
    "import lxml.html\n",
    "try:\n",
    "    from PySide.QtGui import *\n",
    "    from PySide.QtCore import *\n",
    "    from PySide.QtWebKit import *\n",
    "except ImportError:\n",
    "    from PyQt4.QtGui import *\n",
    "    from PyQt4.QtCore import *\n",
    "    from PyQt4.QtWebKit import *\n",
    "app = QApplication([])\n",
    "webview = QWebView()\n",
    "loop = QEventLoop()\n",
    "webview.loadFinished.connect(loop.quit)\n",
    "webview.load(QUrl(url))\n",
    "loop.exec_()\n",
    "html = webview.page().mainFrame().toHtml()\n",
    "tree = lxml.html.fromstring(html)\n",
    "tree.cssselect('#result')[0].text_content()"
   ],
   "metadata": {
    "collapsed": false,
    "pycharm": {
     "name": "#%%\n"
    }
   }
  },
  {
   "cell_type": "code",
   "execution_count": null,
   "outputs": [],
   "source": [],
   "metadata": {
    "collapsed": false,
    "pycharm": {
     "name": "#%%\n"
    }
   }
  }
 ],
 "metadata": {
  "kernelspec": {
   "display_name": "Python 3",
   "language": "python",
   "name": "python3"
  },
  "language_info": {
   "codemirror_mode": {
    "name": "ipython",
    "version": 2
   },
   "file_extension": ".py",
   "mimetype": "text/x-python",
   "name": "python",
   "nbconvert_exporter": "python",
   "pygments_lexer": "ipython2",
   "version": "2.7.6"
  }
 },
 "nbformat": 4,
 "nbformat_minor": 0
}