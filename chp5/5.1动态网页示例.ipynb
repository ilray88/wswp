{
 "cells": [
  {
   "cell_type": "code",
   "execution_count": 3,
   "metadata": {
    "collapsed": true
   },
   "outputs": [
    {
     "ename": "ModuleNotFoundError",
     "evalue": "No module named 'urllib2'",
     "output_type": "error",
     "traceback": [
      "\u001B[1;31m---------------------------------------------------------------------------\u001B[0m",
      "\u001B[1;31mModuleNotFoundError\u001B[0m                       Traceback (most recent call last)",
      "\u001B[1;32m<ipython-input-3-3a93ee63ded7>\u001B[0m in \u001B[0;36m<module>\u001B[1;34m()\u001B[0m\n\u001B[0;32m      1\u001B[0m \u001B[1;33m\u001B[0m\u001B[0m\n\u001B[0;32m      2\u001B[0m \u001B[1;32mfrom\u001B[0m \u001B[0mlxml\u001B[0m\u001B[1;33m.\u001B[0m\u001B[0mhtml\u001B[0m \u001B[1;32mimport\u001B[0m \u001B[0mfromstring\u001B[0m\u001B[1;33m\u001B[0m\u001B[0m\n\u001B[1;32m----> 3\u001B[1;33m \u001B[1;32mfrom\u001B[0m \u001B[0mdownloader\u001B[0m \u001B[1;32mimport\u001B[0m \u001B[0mDownloader\u001B[0m\u001B[1;33m\u001B[0m\u001B[0m\n\u001B[0m\u001B[0;32m      4\u001B[0m \u001B[0mD\u001B[0m \u001B[1;33m=\u001B[0m \u001B[0mDownloader\u001B[0m\u001B[1;33m\u001B[0m\u001B[0m\n\u001B[0;32m      5\u001B[0m \u001B[0mhtml\u001B[0m \u001B[1;33m=\u001B[0m \u001B[0mD\u001B[0m\u001B[1;33m(\u001B[0m\u001B[1;34m'http://example.python-scraping.com/search'\u001B[0m\u001B[1;33m)\u001B[0m\u001B[1;33m\u001B[0m\u001B[0m\n",
      "\u001B[1;32mD:\\0ilraypan\\python_work\\env\\hack\\lib\\site-packages\\downloader.py\u001B[0m in \u001B[0;36m<module>\u001B[1;34m()\u001B[0m\n\u001B[0;32m     24\u001B[0m throttling interval).\n\u001B[0;32m     25\u001B[0m \"\"\"\n\u001B[1;32m---> 26\u001B[1;33m \u001B[1;32mimport\u001B[0m \u001B[0murllib2\u001B[0m\u001B[1;33m,\u001B[0m \u001B[0msqlite3\u001B[0m\u001B[1;33m,\u001B[0m \u001B[0mzlib\u001B[0m\u001B[1;33m,\u001B[0m \u001B[0mrandom\u001B[0m\u001B[1;33m,\u001B[0m \u001B[0mtime\u001B[0m\u001B[1;33m\u001B[0m\u001B[0m\n\u001B[0m\u001B[0;32m     27\u001B[0m \u001B[1;32mimport\u001B[0m \u001B[0mitertools\u001B[0m\u001B[1;33m,\u001B[0m \u001B[0mcStringIO\u001B[0m\u001B[1;33m,\u001B[0m \u001B[0mlogging\u001B[0m\u001B[1;33m,\u001B[0m \u001B[0mdatetime\u001B[0m\u001B[1;33m\u001B[0m\u001B[0m\n\u001B[0;32m     28\u001B[0m \u001B[1;32mimport\u001B[0m \u001B[0mlxml\u001B[0m\u001B[1;33m.\u001B[0m\u001B[0mhtml\u001B[0m\u001B[1;33m\u001B[0m\u001B[0m\n",
      "\u001B[1;31mModuleNotFoundError\u001B[0m: No module named 'urllib2'"
     ]
    }
   ],
   "source": [
    "from lxml.html import fromstring\n",
    "from downloader import Downloader\n",
    "D = Downloader\n",
    "html = D('http://example.python-scraping.com/search')\n",
    "tree = fromstring(html)\n",
    "tree.cssseclect('div#results a')"
   ]
  },
  {
   "cell_type": "code",
   "execution_count": null,
   "outputs": [],
   "source": [],
   "metadata": {
    "collapsed": false,
    "pycharm": {
     "name": "#%%\n"
    }
   }
  }
 ],
 "metadata": {
  "kernelspec": {
   "display_name": "Python 3",
   "language": "python",
   "name": "python3"
  },
  "language_info": {
   "codemirror_mode": {
    "name": "ipython",
    "version": 2
   },
   "file_extension": ".py",
   "mimetype": "text/x-python",
   "name": "python",
   "nbconvert_exporter": "python",
   "pygments_lexer": "ipython2",
   "version": "2.7.6"
  }
 },
 "nbformat": 4,
 "nbformat_minor": 0
}