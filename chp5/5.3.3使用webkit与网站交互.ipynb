{
 "cells": [
  {
   "cell_type": "code",
   "execution_count": null,
   "metadata": {
    "collapsed": true,
    "pycharm": {
     "is_executing": true
    }
   },
   "outputs": [],
   "source": [
    "try:\n",
    "    from PySide.QtGui import *\n",
    "    from PySide.QtCore import *\n",
    "    from PySide.QtWebKit import *\n",
    "except ImportError:\n",
    "    from PyQt4.QtGui import *\n",
    "    from PyQt4.QtCore import *\n",
    "    from PyQt4.QtWebKit import *\n",
    "\n",
    "\n",
    "app = QApplication([])\n",
    "webview = QWebView()\n",
    "loop = QEventLoop()\n",
    "webview.loadFinished.connect(loop.quit)\n",
    "webview.load(QUrl('http://example.python-scraping.com/search'))\n",
    "loop.exec_()\n",
    "webview.show()\n",
    "frame = webview.page().mainFrame()\n",
    "frame.findFirstElement('#search_term').setAttribute('value', '.')\n",
    "frame.findFirstElement('#page_size option:checked').setPlainText('1000')\n",
    "frame.findFirstElement('#search').evaluateJavaScript('this.click()')\n",
    "# app.exec_() ## Uncomment and this will become a blocking event"
   ]
  },
  {
   "cell_type": "code",
   "execution_count": null,
   "outputs": [],
   "source": [
    "elements = None\n",
    "while not elements:\n",
    "    app.processEvents()\n",
    "    elements = frame.findAllElements('#results a')"
   ],
   "metadata": {
    "collapsed": false,
    "pycharm": {
     "name": "#%%\n",
     "is_executing": true
    }
   }
  },
  {
   "cell_type": "code",
   "execution_count": null,
   "outputs": [],
   "source": [
    "countries_or_districts = [e.toPlainText().strip() for e in elements]\n",
    "print(countries_or_districts)"
   ],
   "metadata": {
    "collapsed": false,
    "pycharm": {
     "name": "#%%\n",
     "is_executing": true
    }
   }
  },
  {
   "cell_type": "code",
   "execution_count": null,
   "outputs": [],
   "source": [],
   "metadata": {
    "collapsed": false,
    "pycharm": {
     "name": "#%%\n",
     "is_executing": true
    }
   }
  }
 ],
 "metadata": {
  "kernelspec": {
   "display_name": "Python 3",
   "language": "python",
   "name": "python3"
  },
  "language_info": {
   "codemirror_mode": {
    "name": "ipython",
    "version": 2
   },
   "file_extension": ".py",
   "mimetype": "text/x-python",
   "name": "python",
   "nbconvert_exporter": "python",
   "pygments_lexer": "ipython2",
   "version": "2.7.6"
  }
 },
 "nbformat": 4,
 "nbformat_minor": 0
}