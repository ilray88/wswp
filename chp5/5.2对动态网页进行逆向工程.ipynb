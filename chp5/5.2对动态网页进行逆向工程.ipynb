{
 "cells": [
  {
   "cell_type": "code",
   "execution_count": 1,
   "outputs": [
    {
     "name": "stdout",
     "output_type": "stream",
     "text": [
      "http://192.168.5.1:7890\n",
      "http://192.168.5.1:7890\n"
     ]
    }
   ],
   "source": [
    "!git config --get --global http.proxy\n",
    "!git config --get --global https.proxy\n",
    "!git config --get --global http.proxy socks5\n",
    "!git config --get --global https.proxy socks5"
   ],
   "metadata": {
    "collapsed": false,
    "pycharm": {
     "name": "#%%\n"
    }
   }
  },
  {
   "cell_type": "code",
   "execution_count": 2,
   "outputs": [
    {
     "name": "stdout",
     "output_type": "stream",
     "text": [
      "\n",
      "当前的 WinHTTP 代理服务器设置:\n",
      "\n",
      "    代理服务器:  192.168.5.1:7890\n",
      "    绕过列表     :  localhost;127.*;10.*;172.16.*;172.17.*;172.18.*;172.19.*;172.20.*;172.21.*;172.22.*;172.23.*;172.24.*;172.25.*;172.26.*;172.27.*;172.28.*;172.29.*;172.30.*;172.31.*;127.0.0.1;<local>\n",
      "\n"
     ]
    }
   ],
   "source": [
    "!netsh winhttp show proxy"
   ],
   "metadata": {
    "collapsed": false,
    "pycharm": {
     "name": "#%%\n"
    }
   }
  },
  {
   "cell_type": "code",
   "execution_count": 3,
   "outputs": [
    {
     "ename": "ModuleNotFoundError",
     "evalue": "No module named 'requests'",
     "output_type": "error",
     "traceback": [
      "\u001B[1;31m---------------------------------------------------------------------------\u001B[0m",
      "\u001B[1;31mModuleNotFoundError\u001B[0m                       Traceback (most recent call last)",
      "\u001B[1;32m<ipython-input-3-aea223f782af>\u001B[0m in \u001B[0;36m<module>\u001B[1;34m()\u001B[0m\n\u001B[0;32m      1\u001B[0m \u001B[1;33m\u001B[0m\u001B[0m\n\u001B[1;32m----> 2\u001B[1;33m \u001B[1;32mimport\u001B[0m \u001B[0mrequests\u001B[0m\u001B[1;33m\u001B[0m\u001B[0m\n\u001B[0m\u001B[0;32m      3\u001B[0m \u001B[1;32mimport\u001B[0m \u001B[0mstring\u001B[0m\u001B[1;33m\u001B[0m\u001B[0m\n\u001B[0;32m      4\u001B[0m \u001B[1;32mimport\u001B[0m \u001B[0mos\u001B[0m\u001B[1;33m\u001B[0m\u001B[0m\n\u001B[0;32m      5\u001B[0m \u001B[0mos\u001B[0m\u001B[1;33m.\u001B[0m\u001B[0menviron\u001B[0m\u001B[1;33m[\u001B[0m\u001B[1;34m\"http_proxy\"\u001B[0m\u001B[1;33m]\u001B[0m \u001B[1;33m=\u001B[0m \u001B[1;34m\"http://192.168.5.1:7890\"\u001B[0m\u001B[1;33m\u001B[0m\u001B[0m\n",
      "\u001B[1;31mModuleNotFoundError\u001B[0m: No module named 'requests'"
     ]
    }
   ],
   "source": [
    "import requests\n",
    "import string\n",
    "import os\n",
    "os.environ[\"http_proxy\"] = \"http://192.168.5.1:7890\"\n",
    "os.environ[\"https_proxy\"] = \"http://192.168.5.1:7890\"\n",
    "\n",
    "PAGE_SIZE = 10\n",
    "\n",
    "template_url = 'http://example.python-scraping.com/ajax/' + \\\n",
    "    'search.json?page={}&page_size={}&search_term={}'\n",
    "\n",
    "countries_or_districts = set()\n",
    "\n",
    "for letter in string.ascii_lowercase:\n",
    "    print('Searching with %s' % letter)\n",
    "    page = 0\n",
    "    while True:\n",
    "        resp = requests.get(template_url.format(page, PAGE_SIZE, letter))\n",
    "        data = resp.json()\n",
    "        print('adding %d more records from page %d' %\n",
    "              (len(data.get('records')), page))\n",
    "        for record in data.get('records'):\n",
    "            countries_or_districts.add(record['country_or_district'])\n",
    "        page += 1\n",
    "        if page >= data['num_pages']:\n",
    "            break\n",
    "\n",
    "with open('../data/countries_or_districts.txt', 'w') as countries_or_districts_file:\n",
    "    countrie_or_districts_file.write('\\n'.join(sorted(countries_or_districts)))"
   ],
   "metadata": {
    "collapsed": false,
    "pycharm": {
     "name": "#%%\n"
    }
   }
  },
  {
   "cell_type": "code",
   "execution_count": 6,
   "outputs": [
    {
     "name": "stdout",
     "output_type": "stream",
     "text": [
      "Searching with a\n",
      "adding 10 more records from page 0\n",
      "adding 10 more records from page 1\n",
      "adding 10 more records from page 2\n",
      "adding 10 more records from page 3\n",
      "adding 10 more records from page 4\n",
      "adding 10 more records from page 5\n",
      "adding 10 more records from page 6\n",
      "adding 10 more records from page 7\n",
      "adding 10 more records from page 8\n",
      "adding 10 more records from page 9\n",
      "adding 10 more records from page 10\n",
      "adding 10 more records from page 11\n",
      "adding 10 more records from page 12\n",
      "adding 10 more records from page 13\n",
      "adding 10 more records from page 14\n",
      "adding 10 more records from page 15\n",
      "adding 10 more records from page 16\n",
      "adding 10 more records from page 17\n",
      "adding 10 more records from page 18\n",
      "adding 10 more records from page 19\n",
      "adding 10 more records from page 20\n",
      "Searching with b\n",
      "adding 10 more records from page 0\n",
      "adding 10 more records from page 1\n",
      "adding 10 more records from page 2\n",
      "adding 10 more records from page 3\n",
      "adding 10 more records from page 4\n",
      "adding 6 more records from page 5\n",
      "Searching with c\n",
      "adding 10 more records from page 0\n",
      "adding 10 more records from page 1\n",
      "adding 10 more records from page 2\n",
      "adding 10 more records from page 3\n",
      "adding 10 more records from page 4\n",
      "adding 5 more records from page 5\n",
      "Searching with d\n",
      "adding 10 more records from page 0\n",
      "adding 10 more records from page 1\n",
      "adding 10 more records from page 2\n",
      "adding 10 more records from page 3\n",
      "adding 10 more records from page 4\n",
      "adding 10 more records from page 5\n",
      "adding 10 more records from page 6\n",
      "adding 5 more records from page 7\n",
      "Searching with e\n",
      "adding 10 more records from page 0\n",
      "adding 10 more records from page 1\n",
      "adding 10 more records from page 2\n",
      "adding 10 more records from page 3\n",
      "adding 10 more records from page 4\n",
      "adding 10 more records from page 5\n",
      "adding 10 more records from page 6\n",
      "adding 10 more records from page 7\n",
      "adding 10 more records from page 8\n",
      "adding 10 more records from page 9\n",
      "adding 10 more records from page 10\n",
      "adding 10 more records from page 11\n",
      "Searching with f\n",
      "adding 10 more records from page 0\n",
      "adding 6 more records from page 1\n",
      "Searching with g\n",
      "adding 10 more records from page 0\n",
      "adding 10 more records from page 1\n",
      "adding 10 more records from page 2\n",
      "adding 10 more records from page 3\n",
      "adding 10 more records from page 4\n",
      "adding 7 more records from page 5\n",
      "Searching with h\n",
      "adding 10 more records from page 0\n",
      "adding 10 more records from page 1\n",
      "adding 10 more records from page 2\n",
      "adding 10 more records from page 3\n",
      "adding 3 more records from page 4\n",
      "Searching with i\n",
      "adding 10 more records from page 0\n",
      "adding 10 more records from page 1\n",
      "adding 10 more records from page 2\n",
      "adding 10 more records from page 3\n",
      "adding 10 more records from page 4\n",
      "adding 10 more records from page 5\n",
      "adding 10 more records from page 6\n",
      "adding 10 more records from page 7\n",
      "adding 10 more records from page 8\n",
      "adding 10 more records from page 9\n",
      "adding 10 more records from page 10\n",
      "adding 10 more records from page 11\n",
      "adding 10 more records from page 12\n",
      "adding 10 more records from page 13\n",
      "adding 10 more records from page 14\n",
      "adding 6 more records from page 15\n",
      "Searching with j\n",
      "adding 9 more records from page 0\n",
      "Searching with k\n",
      "adding 10 more records from page 0\n",
      "adding 10 more records from page 1\n",
      "adding 4 more records from page 2\n",
      "Searching with l\n",
      "adding 10 more records from page 0\n",
      "adding 10 more records from page 1\n",
      "adding 10 more records from page 2\n",
      "adding 10 more records from page 3\n",
      "adding 10 more records from page 4\n",
      "adding 10 more records from page 5\n",
      "adding 10 more records from page 6\n",
      "adding 10 more records from page 7\n",
      "adding 10 more records from page 8\n",
      "adding 4 more records from page 9\n",
      "Searching with m\n",
      "adding 10 more records from page 0\n",
      "adding 10 more records from page 1\n",
      "adding 10 more records from page 2\n",
      "adding 10 more records from page 3\n",
      "adding 10 more records from page 4\n",
      "adding 10 more records from page 5\n",
      "adding 10 more records from page 6\n",
      "adding 1 more records from page 7\n",
      "Searching with n\n",
      "adding 10 more records from page 0\n",
      "adding 10 more records from page 1\n",
      "adding 10 more records from page 2\n",
      "adding 10 more records from page 3\n",
      "adding 10 more records from page 4\n",
      "adding 10 more records from page 5\n",
      "adding 10 more records from page 6\n",
      "adding 10 more records from page 7\n",
      "adding 10 more records from page 8\n",
      "adding 10 more records from page 9\n",
      "adding 10 more records from page 10\n",
      "adding 10 more records from page 11\n",
      "adding 10 more records from page 12\n",
      "adding 10 more records from page 13\n",
      "adding 10 more records from page 14\n",
      "adding 5 more records from page 15\n",
      "Searching with o\n",
      "adding 10 more records from page 0\n",
      "adding 10 more records from page 1\n",
      "adding 10 more records from page 2\n",
      "adding 10 more records from page 3\n",
      "adding 10 more records from page 4\n",
      "adding 10 more records from page 5\n",
      "adding 10 more records from page 6\n",
      "adding 10 more records from page 7\n",
      "adding 10 more records from page 8\n",
      "adding 3 more records from page 9\n",
      "Searching with p\n",
      "adding 10 more records from page 0\n",
      "adding 10 more records from page 1\n",
      "adding 9 more records from page 2\n",
      "Searching with q\n",
      "adding 6 more records from page 0\n",
      "Searching with r\n",
      "adding 10 more records from page 0\n",
      "adding 10 more records from page 1\n",
      "adding 10 more records from page 2\n",
      "adding 10 more records from page 3\n",
      "adding 10 more records from page 4\n",
      "adding 10 more records from page 5\n",
      "adding 10 more records from page 6\n",
      "adding 10 more records from page 7\n",
      "adding 10 more records from page 8\n",
      "adding 10 more records from page 9\n",
      "adding 10 more records from page 10\n",
      "adding 10 more records from page 11\n",
      "adding 10 more records from page 12\n",
      "Searching with s\n",
      "adding 10 more records from page 0\n",
      "adding 10 more records from page 1\n",
      "adding 10 more records from page 2\n",
      "adding 10 more records from page 3\n",
      "adding 10 more records from page 4\n",
      "adding 10 more records from page 5\n",
      "adding 10 more records from page 6\n",
      "adding 10 more records from page 7\n",
      "adding 10 more records from page 8\n",
      "adding 10 more records from page 9\n",
      "adding 5 more records from page 10\n",
      "Searching with t\n",
      "adding 10 more records from page 0\n",
      "adding 10 more records from page 1\n",
      "adding 10 more records from page 2\n",
      "adding 10 more records from page 3\n",
      "adding 10 more records from page 4\n",
      "adding 10 more records from page 5\n",
      "adding 10 more records from page 6\n",
      "adding 10 more records from page 7\n",
      "adding 10 more records from page 8\n",
      "adding 3 more records from page 9\n",
      "Searching with u\n",
      "adding 10 more records from page 0\n",
      "adding 10 more records from page 1\n",
      "adding 10 more records from page 2\n",
      "adding 10 more records from page 3\n",
      "adding 10 more records from page 4\n",
      "adding 10 more records from page 5\n",
      "adding 10 more records from page 6\n",
      "adding 10 more records from page 7\n",
      "adding 2 more records from page 8\n",
      "Searching with v\n",
      "adding 10 more records from page 0\n",
      "adding 10 more records from page 1\n",
      "adding 2 more records from page 2\n",
      "Searching with w\n",
      "adding 10 more records from page 0\n",
      "adding 5 more records from page 1\n",
      "Searching with x\n",
      "adding 2 more records from page 0\n",
      "Searching with y\n",
      "adding 10 more records from page 0\n",
      "adding 10 more records from page 1\n",
      "adding 9 more records from page 2\n",
      "Searching with z\n",
      "adding 10 more records from page 0\n",
      "adding 6 more records from page 1\n"
     ]
    },
    {
     "ename": "NameError",
     "evalue": "name 'countrie_or_districts_file' is not defined",
     "output_type": "error",
     "traceback": [
      "\u001B[1;31m---------------------------------------------------------------------------\u001B[0m",
      "\u001B[1;31mNameError\u001B[0m                                 Traceback (most recent call last)",
      "\u001B[1;32mD:\\0ilraypan\\git_jia\\《用Python写网络爬虫2》\\chp5\\json_scraper.py\u001B[0m in \u001B[0;36m<module>\u001B[1;34m()\u001B[0m\n\u001B[0;32m     27\u001B[0m \u001B[1;33m\u001B[0m\u001B[0m\n\u001B[0;32m     28\u001B[0m \u001B[1;32mwith\u001B[0m \u001B[0mopen\u001B[0m\u001B[1;33m(\u001B[0m\u001B[1;34m'../data/countries_or_districts.txt'\u001B[0m\u001B[1;33m,\u001B[0m \u001B[1;34m'w'\u001B[0m\u001B[1;33m)\u001B[0m \u001B[1;32mas\u001B[0m \u001B[0mcountries_or_districts_file\u001B[0m\u001B[1;33m:\u001B[0m\u001B[1;33m\u001B[0m\u001B[0m\n\u001B[1;32m---> 29\u001B[1;33m     \u001B[0mcountrie_or_districts_file\u001B[0m\u001B[1;33m.\u001B[0m\u001B[0mwrite\u001B[0m\u001B[1;33m(\u001B[0m\u001B[1;34m'\\n'\u001B[0m\u001B[1;33m.\u001B[0m\u001B[0mjoin\u001B[0m\u001B[1;33m(\u001B[0m\u001B[0msorted\u001B[0m\u001B[1;33m(\u001B[0m\u001B[0mcountries_or_districts\u001B[0m\u001B[1;33m)\u001B[0m\u001B[1;33m)\u001B[0m\u001B[1;33m)\u001B[0m\u001B[1;33m\u001B[0m\u001B[0m\n\u001B[0m",
      "\u001B[1;31mNameError\u001B[0m: name 'countrie_or_districts_file' is not defined"
     ]
    }
   ],
   "source": [
    "%run json_scraper.py"
   ],
   "metadata": {
    "collapsed": false,
    "pycharm": {
     "name": "#%%\n"
    }
   }
  },
  {
   "cell_type": "code",
   "execution_count": null,
   "outputs": [],
   "source": [],
   "metadata": {
    "collapsed": false,
    "pycharm": {
     "name": "#%%\n"
    }
   }
  }
 ],
 "metadata": {
  "kernelspec": {
   "name": "pycharm-f0872a57",
   "language": "python",
   "display_name": "PyCharm (黑客攻防实战)"
  },
  "language_info": {
   "codemirror_mode": {
    "name": "ipython",
    "version": 2
   },
   "file_extension": ".py",
   "mimetype": "text/x-python",
   "name": "python",
   "nbconvert_exporter": "python",
   "pygments_lexer": "ipython2",
   "version": "2.7.6"
  }
 },
 "nbformat": 4,
 "nbformat_minor": 0
}