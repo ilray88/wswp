{
 "cells": [
  {
   "cell_type": "code",
   "execution_count": 2,
   "metadata": {
    "collapsed": true,
    "pycharm": {
     "name": "#%%\n"
    }
   },
   "outputs": [
    {
     "name": "stdout",
     "output_type": "stream",
     "text": [
      "10\n",
      "[<Thread(Thread-7, started daemon 14128)>]\n",
      "Error finding robots_url: http://www.gap.com/robots.txt <urlopen error [WinError 10061] 由于目标计算机积极拒绝，无法连接。>\n",
      "Loaded from cache: http://www.gap.com/products/sitemap_index.xml\n",
      "Downloading: http://www.gap.com/products/sitemap_index.xml\n",
      "Download error: \n",
      "Downloading: http://www.gap.com/products/sitemap_index.xml\n",
      "Download error: \n",
      "Downloading: http://www.gap.com/products/sitemap_index.xml\n",
      "Download error: \n",
      "[]\n"
     ]
    }
   ],
   "source": [
    "import os\n",
    "os.environ[\"http_proxy\"] = \"http://192.168.5.1:7890\"\n",
    "os.environ[\"https_proxy\"] = \"http://192.168.5.1:7890\"\n",
    "\n",
    "from chp9.gap_scraper_callback import scrape_callback\n",
    "from chp4.threaded_crawler import threaded_crawler\n",
    "sitemap = 'http://www.gap.com/products/sitemap_index.xml'\n",
    "threaded_crawler(sitemap, '[gap.com]*',scraper_callback=scrape_callback)"
   ]
  },
  {
   "cell_type": "code",
   "execution_count": 5,
   "outputs": [
    {
     "name": "stdout",
     "output_type": "stream",
     "text": [
      "10\n",
      "[<Thread(Thread-8, started daemon 5400)>]\n",
      "Error finding robots_url: http://www.gap.com/robots.txt <urlopen error [WinError 10061] 由于目标计算机积极拒绝，无法连接。>\n",
      "Loaded from cache: http://www.gap.com/products/sitemap_index.xml\n",
      "Downloading: http://www.gap.com/products/sitemap_index.xml\n",
      "Download error: \n",
      "Downloading: http://www.gap.com/products/sitemap_index.xml\n",
      "Download error: \n",
      "Downloading: http://www.gap.com/products/sitemap_index.xml\n",
      "Download error: \n",
      "[]\n"
     ]
    }
   ],
   "source": [
    "threaded_crawler(sitemap, '[gap.com]*',scraper_callback=scrape_callback)"
   ],
   "metadata": {
    "collapsed": false,
    "pycharm": {
     "name": "#%%\n"
    }
   }
  },
  {
   "cell_type": "code",
   "execution_count": null,
   "outputs": [],
   "source": [],
   "metadata": {
    "collapsed": false,
    "pycharm": {
     "name": "#%%\n"
    }
   }
  }
 ],
 "metadata": {
  "kernelspec": {
   "display_name": "Python 3",
   "language": "python",
   "name": "python3"
  },
  "language_info": {
   "codemirror_mode": {
    "name": "ipython",
    "version": 2
   },
   "file_extension": ".py",
   "mimetype": "text/x-python",
   "name": "python",
   "nbconvert_exporter": "python",
   "pygments_lexer": "ipython2",
   "version": "2.7.6"
  }
 },
 "nbformat": 4,
 "nbformat_minor": 0
}