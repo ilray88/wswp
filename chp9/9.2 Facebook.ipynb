{
 "cells": [
  {
   "cell_type": "code",
   "execution_count": 1,
   "metadata": {
    "collapsed": true
   },
   "outputs": [
    {
     "name": "stdout",
     "output_type": "stream",
     "text": [
      "Looking in indexes: https://pypi.python.org/simple\n",
      "Collecting facebook-sdk\n",
      "  Downloading facebook_sdk-3.1.0-py2.py3-none-any.whl (7.5 kB)\n",
      "Requirement already satisfied: requests in d:\\0ilraypan\\python_work\\env\\hack\\lib\\site-packages (from facebook-sdk) (2.14.2)\n",
      "Installing collected packages: facebook-sdk\n",
      "Successfully installed facebook-sdk-3.1.0\n"
     ]
    }
   ],
   "source": [
    "!pip install facebook-sdk"
   ]
  },
  {
   "cell_type": "code",
   "execution_count": 2,
   "outputs": [
    {
     "ename": "GraphAPIError",
     "evalue": "Valid API versions are '2.8', '2.9', '2.10', '2.11', '2.12', '3.0', '3.1'",
     "output_type": "error",
     "traceback": [
      "\u001B[1;31m---------------------------------------------------------------------------\u001B[0m",
      "\u001B[1;31mGraphAPIError\u001B[0m                             Traceback (most recent call last)",
      "\u001B[1;32m<ipython-input-2-7373bc452fe1>\u001B[0m in \u001B[0;36m<module>\u001B[1;34m()\u001B[0m\n\u001B[0;32m      1\u001B[0m \u001B[1;32mfrom\u001B[0m \u001B[0mfacebook\u001B[0m \u001B[1;32mimport\u001B[0m \u001B[0mGraphAPI\u001B[0m\u001B[1;33m\u001B[0m\u001B[0m\n\u001B[0;32m      2\u001B[0m \u001B[0maccess_token\u001B[0m \u001B[1;33m=\u001B[0m \u001B[1;34m'....'\u001B[0m \u001B[1;31m# insert your actual token here\u001B[0m\u001B[1;33m\u001B[0m\u001B[0m\n\u001B[1;32m----> 3\u001B[1;33m \u001B[0mgraph\u001B[0m \u001B[1;33m=\u001B[0m \u001B[0mGraphAPI\u001B[0m\u001B[1;33m(\u001B[0m\u001B[0maccess_token\u001B[0m\u001B[1;33m=\u001B[0m\u001B[0maccess_token\u001B[0m\u001B[1;33m,\u001B[0m \u001B[0mversion\u001B[0m\u001B[1;33m=\u001B[0m\u001B[1;34m'2.7'\u001B[0m\u001B[1;33m)\u001B[0m\u001B[1;33m\u001B[0m\u001B[0m\n\u001B[0m\u001B[0;32m      4\u001B[0m \u001B[0mgraph\u001B[0m\u001B[1;33m.\u001B[0m\u001B[0mget_object\u001B[0m\u001B[1;33m(\u001B[0m\u001B[1;34m'PacktPub'\u001B[0m\u001B[1;33m)\u001B[0m\u001B[1;33m\u001B[0m\u001B[0m\n",
      "\u001B[1;32mD:\\0ilraypan\\python_work\\env\\hack\\lib\\site-packages\\facebook\\__init__.py\u001B[0m in \u001B[0;36m__init__\u001B[1;34m(self, access_token, timeout, version, proxies, session)\u001B[0m\n\u001B[0;32m    103\u001B[0m                     raise GraphAPIError(\n\u001B[0;32m    104\u001B[0m                         \u001B[1;34m\"Valid API versions are \"\u001B[0m\u001B[1;33m\u001B[0m\u001B[0m\n\u001B[1;32m--> 105\u001B[1;33m                         \u001B[1;33m+\u001B[0m \u001B[0mstr\u001B[0m\u001B[1;33m(\u001B[0m\u001B[0mVALID_API_VERSIONS\u001B[0m\u001B[1;33m)\u001B[0m\u001B[1;33m.\u001B[0m\u001B[0mstrip\u001B[0m\u001B[1;33m(\u001B[0m\u001B[1;34m\"[]\"\u001B[0m\u001B[1;33m)\u001B[0m\u001B[1;33m\u001B[0m\u001B[0m\n\u001B[0m\u001B[0;32m    106\u001B[0m                     )\n\u001B[0;32m    107\u001B[0m                 \u001B[1;32melse\u001B[0m\u001B[1;33m:\u001B[0m\u001B[1;33m\u001B[0m\u001B[0m\n",
      "\u001B[1;31mGraphAPIError\u001B[0m: Valid API versions are '2.8', '2.9', '2.10', '2.11', '2.12', '3.0', '3.1'"
     ]
    }
   ],
   "source": [
    "from facebook import GraphAPI\n",
    "access_token = '....' # insert your actual token here\n",
    "graph = GraphAPI(access_token=access_token, version='2.7')\n",
    "graph.get_object('PacktPub')"
   ],
   "metadata": {
    "collapsed": false,
    "pycharm": {
     "name": "#%%\n"
    }
   }
  },
  {
   "cell_type": "code",
   "execution_count": null,
   "outputs": [],
   "source": [],
   "metadata": {
    "collapsed": false,
    "pycharm": {
     "name": "#%%\n"
    }
   }
  }
 ],
 "metadata": {
  "kernelspec": {
   "display_name": "Python 3",
   "language": "python",
   "name": "python3"
  },
  "language_info": {
   "codemirror_mode": {
    "name": "ipython",
    "version": 2
   },
   "file_extension": ".py",
   "mimetype": "text/x-python",
   "name": "python",
   "nbconvert_exporter": "python",
   "pygments_lexer": "ipython2",
   "version": "2.7.6"
  }
 },
 "nbformat": 4,
 "nbformat_minor": 0
}