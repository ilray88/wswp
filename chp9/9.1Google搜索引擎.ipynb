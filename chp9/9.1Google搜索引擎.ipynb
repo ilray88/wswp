{
 "cells": [
  {
   "cell_type": "code",
   "execution_count": 122,
   "metadata": {
    "collapsed": true
   },
   "outputs": [
    {
     "name": "stderr",
     "output_type": "stream",
     "text": [
      "D:\\0ilraypan\\python_work\\env\\hack\\lib\\site-packages\\cryptography\\hazmat\\backends\\openssl\\x509.py:18: CryptographyDeprecationWarning: This version of cryptography contains a temporary pyOpenSSL fallback path. Upgrade pyOpenSSL now.\n",
      "  utils.DeprecatedIn35,\n"
     ]
    }
   ],
   "source": [
    "import os\n",
    "os.environ[\"http_proxy\"] = \"http://192.168.5.1:7890\"\n",
    "os.environ[\"https_proxy\"] = \"http://192.168.5.1:7890\"\n",
    "\n",
    "from lxml.html import fromstring\n",
    "import requests\n",
    "html = requests.get('https://www.google.com/search?q=test')"
   ]
  },
  {
   "cell_type": "code",
   "execution_count": 123,
   "outputs": [
    {
     "data": {
      "text/plain": "<Response [200]>"
     },
     "execution_count": 123,
     "metadata": {},
     "output_type": "execute_result"
    }
   ],
   "source": [
    "html"
   ],
   "metadata": {
    "collapsed": false,
    "pycharm": {
     "name": "#%%\n"
    }
   }
  },
  {
   "cell_type": "code",
   "execution_count": 124,
   "outputs": [],
   "source": [
    "tree = fromstring(html.content)"
   ],
   "metadata": {
    "collapsed": false,
    "pycharm": {
     "name": "#%%\n"
    }
   }
  },
  {
   "cell_type": "code",
   "execution_count": 125,
   "outputs": [
    {
     "name": "stdout",
     "output_type": "stream",
     "text": [
      "<Element html at 0x2b4f853b908>\n"
     ]
    }
   ],
   "source": [
    "print(tree)"
   ],
   "metadata": {
    "collapsed": false,
    "pycharm": {
     "name": "#%%\n"
    }
   }
  },
  {
   "cell_type": "code",
   "execution_count": 126,
   "outputs": [
    {
     "data": {
      "text/plain": "[<Element a at 0x2b4f85a91d8>,\n <Element a at 0x2b4f853bae8>,\n <Element a at 0x2b4f853bc28>,\n <Element a at 0x2b4f853bc78>,\n <Element a at 0x2b4f853bcc8>,\n <Element a at 0x2b4f853bd18>,\n <Element a at 0x2b4f853bd68>,\n <Element a at 0x2b4f853bdb8>,\n <Element a at 0x2b4f853be08>,\n <Element a at 0x2b4f853be58>,\n <Element a at 0x2b4f853bea8>,\n <Element a at 0x2b4f853bef8>,\n <Element a at 0x2b4f853bf48>,\n <Element a at 0x2b4f853bf98>,\n <Element a at 0x2b4f83a5048>,\n <Element a at 0x2b4f83a5098>,\n <Element a at 0x2b4f83a50e8>,\n <Element a at 0x2b4f83a5138>,\n <Element a at 0x2b4f83a5188>,\n <Element a at 0x2b4f83a51d8>,\n <Element a at 0x2b4f83a5228>,\n <Element a at 0x2b4f83a5278>,\n <Element a at 0x2b4f83a52c8>,\n <Element a at 0x2b4f83a5318>,\n <Element a at 0x2b4f83a5368>,\n <Element a at 0x2b4f83a53b8>,\n <Element a at 0x2b4f83a5408>,\n <Element a at 0x2b4f83a5458>,\n <Element a at 0x2b4f83a54a8>,\n <Element a at 0x2b4f83a54f8>,\n <Element a at 0x2b4f83a5548>,\n <Element a at 0x2b4f83a5598>,\n <Element a at 0x2b4f83a55e8>,\n <Element a at 0x2b4f83a5638>,\n <Element a at 0x2b4f83a5688>,\n <Element a at 0x2b4f83a56d8>,\n <Element a at 0x2b4f83a5728>,\n <Element a at 0x2b4f83a5778>,\n <Element a at 0x2b4f83a57c8>,\n <Element a at 0x2b4f83a5818>,\n <Element a at 0x2b4f83a5868>,\n <Element a at 0x2b4f83a58b8>,\n <Element a at 0x2b4f83a5908>,\n <Element a at 0x2b4f83a5958>,\n <Element a at 0x2b4f83a59a8>,\n <Element a at 0x2b4f83a59f8>,\n <Element a at 0x2b4f83a5a48>,\n <Element a at 0x2b4f83a5a98>,\n <Element a at 0x2b4f83a5ae8>,\n <Element a at 0x2b4f83a5b38>,\n <Element a at 0x2b4f83a5b88>,\n <Element a at 0x2b4f83a5bd8>,\n <Element a at 0x2b4f83a5c28>,\n <Element a at 0x2b4f83a5c78>]"
     },
     "execution_count": 126,
     "metadata": {},
     "output_type": "execute_result"
    }
   ],
   "source": [
    "results = tree.cssselect(\"a\")\n",
    "results"
   ],
   "metadata": {
    "collapsed": false,
    "pycharm": {
     "name": "#%%\n"
    }
   }
  },
  {
   "cell_type": "code",
   "execution_count": 127,
   "outputs": [],
   "source": [
    "# !curl https://www.google.com"
   ],
   "metadata": {
    "collapsed": false,
    "pycharm": {
     "name": "#%%\n"
    }
   }
  },
  {
   "cell_type": "code",
   "execution_count": 141,
   "outputs": [
    {
     "data": {
      "text/plain": "'http://www.google.com/aclk?sa=l&ai=DChcSEwjNjfz__fjzAhXOUGAKHSdtBP8YABAEGgJ0bQ&sig=AOD64_0RaKiyXibNiJUQtE2frGM7iAHPyQ&ved=2ahUKEwjPzPP__fjzAhWTWHwKHaehB38QwgUoA3oECAsQBg&adurl='"
     },
     "execution_count": 141,
     "metadata": {},
     "output_type": "execute_result"
    }
   ],
   "source": [
    "link = results[20].get('href')\n",
    "link"
   ],
   "metadata": {
    "collapsed": false,
    "pycharm": {
     "name": "#%%\n"
    }
   }
  },
  {
   "cell_type": "code",
   "execution_count": 135,
   "outputs": [],
   "source": [],
   "metadata": {
    "collapsed": false,
    "pycharm": {
     "name": "#%%\n"
    }
   }
  },
  {
   "cell_type": "code",
   "execution_count": 142,
   "outputs": [
    {
     "data": {
      "text/plain": "{'ai': ['DChcSEwjNjfz__fjzAhXOUGAKHSdtBP8YABAEGgJ0bQ'],\n 'sa': ['l'],\n 'sig': ['AOD64_0RaKiyXibNiJUQtE2frGM7iAHPyQ'],\n 'ved': ['2ahUKEwjPzPP__fjzAhWTWHwKHaehB38QwgUoA3oECAsQBg']}"
     },
     "execution_count": 142,
     "metadata": {},
     "output_type": "execute_result"
    }
   ],
   "source": [
    "from urllib.parse import parse_qs, urlparse\n",
    "qs = urlparse(link).query\n",
    "parsed_qs = parse_qs(qs)\n",
    "parsed_qs"
   ],
   "metadata": {
    "collapsed": false,
    "pycharm": {
     "name": "#%%\n"
    }
   }
  },
  {
   "cell_type": "code",
   "execution_count": 143,
   "outputs": [
    {
     "data": {
      "text/plain": "[]"
     },
     "execution_count": 143,
     "metadata": {},
     "output_type": "execute_result"
    }
   ],
   "source": [
    "parsed_qs.get('q', [])"
   ],
   "metadata": {
    "collapsed": false,
    "pycharm": {
     "name": "#%%\n"
    }
   }
  },
  {
   "cell_type": "code",
   "execution_count": 144,
   "outputs": [
    {
     "data": {
      "text/plain": "'https://policies.google.com/terms?hl=en-SG&fg=1'"
     },
     "execution_count": 144,
     "metadata": {},
     "output_type": "execute_result"
    }
   ],
   "source": [
    "links = []\n",
    "for result in results:\n",
    "     link = result.get('href')\n",
    "     qs = urlparse(link).query\n",
    "     links.extend(parse_qs(qs).get('q', []))\n",
    "\n",
    "link"
   ],
   "metadata": {
    "collapsed": false,
    "pycharm": {
     "name": "#%%\n"
    }
   }
  },
  {
   "cell_type": "code",
   "execution_count": 146,
   "outputs": [
    {
     "name": "stderr",
     "output_type": "stream",
     "text": [
      "D:\\0ilraypan\\python_work\\env\\hack\\lib\\site-packages\\cryptography\\hazmat\\backends\\openssl\\x509.py:18: CryptographyDeprecationWarning: This version of cryptography contains a temporary pyOpenSSL fallback path. Upgrade pyOpenSSL now.\n",
      "  utils.DeprecatedIn35,\n"
     ]
    },
    {
     "name": "stdout",
     "output_type": "stream",
     "text": [
      "[<Element a at 0x2b4f83ccd68>, <Element a at 0x2b4f84874a8>, <Element a at 0x2b4f8487908>, <Element a at 0x2b4f84878b8>, <Element a at 0x2b4f860edb8>, <Element a at 0x2b4f860ee58>, <Element a at 0x2b4f860ee08>, <Element a at 0x2b4f860ed68>, <Element a at 0x2b4f860ed18>, <Element a at 0x2b4f860ef48>, <Element a at 0x2b4f8603048>, <Element a at 0x2b4f8603138>, <Element a at 0x2b4f8603188>, <Element a at 0x2b4f86031d8>, <Element a at 0x2b4f8603228>, <Element a at 0x2b4f8603278>, <Element a at 0x2b4f86032c8>, <Element a at 0x2b4f8603318>, <Element a at 0x2b4f8603368>, <Element a at 0x2b4f86033b8>, <Element a at 0x2b4f8603408>, <Element a at 0x2b4f8603458>, <Element a at 0x2b4f86034a8>, <Element a at 0x2b4f86034f8>, <Element a at 0x2b4f8603548>, <Element a at 0x2b4f8603598>, <Element a at 0x2b4f86035e8>, <Element a at 0x2b4f8603638>, <Element a at 0x2b4f8603688>, <Element a at 0x2b4f86036d8>, <Element a at 0x2b4f8603728>, <Element a at 0x2b4f8603778>, <Element a at 0x2b4f86037c8>, <Element a at 0x2b4f8603818>, <Element a at 0x2b4f8603868>, <Element a at 0x2b4f86038b8>, <Element a at 0x2b4f8603908>, <Element a at 0x2b4f8603958>, <Element a at 0x2b4f86039a8>, <Element a at 0x2b4f86039f8>, <Element a at 0x2b4f8603a48>, <Element a at 0x2b4f8603a98>, <Element a at 0x2b4f8603ae8>, <Element a at 0x2b4f8603b38>, <Element a at 0x2b4f8603b88>, <Element a at 0x2b4f8603bd8>, <Element a at 0x2b4f8603c28>, <Element a at 0x2b4f8603c78>, <Element a at 0x2b4f8603cc8>]\n",
      "/?sa=X&ved=0ahUKEwi1ov6W__jzAhXDFLcAHbOcB6MQOwgC\n",
      "{'sa': ['X'], 'ved': ['0ahUKEwi1ov6W__jzAhXDFLcAHbOcB6MQOwgC']}\n",
      "[]\n",
      "['test', 'test', 'test', 'test', 'test', 'test', 'test', 'test', 'test', 'test', 'test', 'test', 'test', 'https://www.speedtest.net/', 'https://www.theguardian.com/world/2021/nov/02/china-locks-down-shanghai-disneyland-and-tests-34000-visitors-after-single-covid-case', 'https://www.businesstimes.com.sg/government-economy/current-stress-test-requirements-for-power-retailers-insufficient-minister', 'https://asia.nikkei.com/Business/Technology/Indonesia-s-Gojek-and-Taiwan-s-Gogoro-to-test-electric-scooters', 'https://fortune.com/2021/11/01/shanghai-disneyland-covid-case-test-lockdown-china-delta-outbreak/', 'https://www.thestar.com.my/news/nation/2021/11/02/covid-19-self-test-kits-going-for-as-low-as-rm690-per-unit', 'https://www.manchestereveningnews.co.uk/sport/football/football-news/manchester-united-ronaldo-cavani-solskjaer-22031563', 'https://www.straitstimes.com/life/entertainment/singers-jon-bon-jovi-and-bryan-adams-test-positive-for-covid-19', 'https://www.theguardian.com/football/blog/2021/nov/01/daniel-levy-faces-test-of-true-spurs-ambition-nuno-conte', 'https://www.bloomberg.com/news/articles/2021-10-31/thailand-s-big-reopening-set-to-test-pandemic-era-tourism', 'https://www.newscientist.com/article/2295435-us-army-will-test-its-most-powerful-laser-weapon-ever-next-year/', 'https://fast.com/', 'https://www.thinkwithgoogle.com/feature/testmysite/', 'http://www.speedtest.com.sg/', 'https://www.washingtonpost.com/health/2021/11/01/at-home-covid-tests/', 'https://www.16personalities.com/free-personality-test', 'https://www.nytimes.com/2021/11/01/style/at-home-covid-tests-socializing.html', 'https://www.cdc.gov/coronavirus/2019-ncov/testing/diagnostic-testing.html', 'https://www.rainbowlabs.co.uk/store/DAY-2-Antigen-Test-p411167429', 'Google speed test', 'Test 2', 'Fast speed test', 'Ping test', 'Speed test mobile', 'Ookla speed test online mobile', 'BSNL speed test', 'Spectrum speed test', 'test', 'https://support.google.com/websearch?p=ws_settings_location&hl=en-SG', 'https://accounts.google.com/ServiceLogin?continue=https://www.google.com/search%3Fq%3Dtest&hl=en']\n"
     ]
    }
   ],
   "source": [
    "%run D:\\0ilraypan\\git_jia\\《用Python写网络爬虫2》\\chp9\\scrape_google.py\n"
   ],
   "metadata": {
    "collapsed": false,
    "pycharm": {
     "name": "#%%\n"
    }
   }
  },
  {
   "cell_type": "code",
   "execution_count": null,
   "outputs": [],
   "source": [],
   "metadata": {
    "collapsed": false,
    "pycharm": {
     "name": "#%%\n"
    }
   }
  }
 ],
 "metadata": {
  "kernelspec": {
   "display_name": "Python 3",
   "language": "python",
   "name": "python3"
  },
  "language_info": {
   "codemirror_mode": {
    "name": "ipython",
    "version": 2
   },
   "file_extension": ".py",
   "mimetype": "text/x-python",
   "name": "python",
   "nbconvert_exporter": "python",
   "pygments_lexer": "ipython2",
   "version": "2.7.6"
  }
 },
 "nbformat": 4,
 "nbformat_minor": 0
}