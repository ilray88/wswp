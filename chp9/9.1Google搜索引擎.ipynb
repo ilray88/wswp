{
 "cells": [
  {
   "cell_type": "code",
   "execution_count": null,
   "metadata": {
    "collapsed": true,
    "pycharm": {
     "is_executing": true
    }
   },
   "outputs": [],
   "source": [
    "# import os\n",
    "# os.environ[\"http_proxy\"] = \"http://192.168.5.1:7890\"\n",
    "# os.environ[\"https_proxy\"] = \"http://192.168.5.1:7890\"\n",
    "\n",
    "from lxml.html import fromstring\n",
    "import requests\n",
    "html = requests.get('https://www.google.com/search?q=test')\n",
    "tree = fromstring(html.content)\n",
    "results = tree.cssselect('h3.r a')"
   ]
  },
  {
   "cell_type": "code",
   "execution_count": null,
   "outputs": [],
   "source": [],
   "metadata": {
    "collapsed": false,
    "pycharm": {
     "name": "#%%\n"
    }
   }
  }
 ],
 "metadata": {
  "kernelspec": {
   "display_name": "Python 3",
   "language": "python",
   "name": "python3"
  },
  "language_info": {
   "codemirror_mode": {
    "name": "ipython",
    "version": 2
   },
   "file_extension": ".py",
   "mimetype": "text/x-python",
   "name": "python",
   "nbconvert_exporter": "python",
   "pygments_lexer": "ipython2",
   "version": "2.7.6"
  }
 },
 "nbformat": 4,
 "nbformat_minor": 0
}