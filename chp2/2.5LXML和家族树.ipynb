{
 "cells": [
  {
   "cell_type": "code",
   "execution_count": 1,
   "metadata": {
    "collapsed": true
   },
   "outputs": [
    {
     "name": "stdout",
     "output_type": "stream",
     "text": [
      "Downloading: http://example.python-scraping.com/view/UnitedKingdom-233\n"
     ]
    }
   ],
   "source": [
    "from lxml.html import fromstring\n",
    "from chp1.advanced_link_crawler import download\n",
    "\n",
    "url = 'http://example.python-scraping.com/view/UnitedKingdom-233'\n",
    "html = download(url)"
   ]
  },
  {
   "cell_type": "code",
   "execution_count": 2,
   "outputs": [],
   "source": [
    "tree = fromstring(html)\n",
    "table = tree.xpath('//table')[0]"
   ],
   "metadata": {
    "collapsed": false,
    "pycharm": {
     "name": "#%%\n"
    }
   }
  },
  {
   "cell_type": "code",
   "execution_count": 3,
   "outputs": [
    {
     "name": "stdout",
     "output_type": "stream",
     "text": [
      "Children: [<Element tr at 0x1ec6833e868>, <Element tr at 0x1ec6833ee58>, <Element tr at 0x1ec6833eea8>, <Element tr at 0x1ec6833eef8>, <Element tr at 0x1ec6833ef48>, <Element tr at 0x1ec6833ef98>, <Element tr at 0x1ec68351048>, <Element tr at 0x1ec68351098>, <Element tr at 0x1ec683510e8>, <Element tr at 0x1ec68351138>, <Element tr at 0x1ec68351188>, <Element tr at 0x1ec683511d8>, <Element tr at 0x1ec68351228>, <Element tr at 0x1ec68351278>, <Element tr at 0x1ec683512c8>]\n"
     ]
    }
   ],
   "source": [
    "print('Children:', table.getchildren())"
   ],
   "metadata": {
    "collapsed": false,
    "pycharm": {
     "name": "#%%\n"
    }
   }
  },
  {
   "cell_type": "code",
   "execution_count": 4,
   "outputs": [
    {
     "name": "stdout",
     "output_type": "stream",
     "text": [
      "Parent: <Element form at 0x1ec6833e728>\n"
     ]
    }
   ],
   "source": [
    "print('Parent:', table.getparent())"
   ],
   "metadata": {
    "collapsed": false,
    "pycharm": {
     "name": "#%%\n"
    }
   }
  },
  {
   "cell_type": "code",
   "execution_count": 5,
   "outputs": [
    {
     "name": "stdout",
     "output_type": "stream",
     "text": [
      "Previous Sibling: None\n"
     ]
    }
   ],
   "source": [
    "print('Previous Sibling:', table.getprevious())"
   ],
   "metadata": {
    "collapsed": false,
    "pycharm": {
     "name": "#%%\n"
    }
   }
  },
  {
   "cell_type": "code",
   "execution_count": 6,
   "outputs": [
    {
     "name": "stdout",
     "output_type": "stream",
     "text": [
      "Next Sibling: <Element div at 0x1ec683510e8>\n"
     ]
    }
   ],
   "source": [
    "print('Next Sibling:', table.getnext())"
   ],
   "metadata": {
    "collapsed": false,
    "pycharm": {
     "name": "#%%\n"
    }
   }
  },
  {
   "cell_type": "code",
   "execution_count": 7,
   "outputs": [
    {
     "name": "stdout",
     "output_type": "stream",
     "text": [
      "All Siblings: [<Element div at 0x1ec68351138>]\n"
     ]
    }
   ],
   "source": [
    "print('All Siblings:', list(table.itersiblings()))"
   ],
   "metadata": {
    "collapsed": false,
    "pycharm": {
     "name": "#%%\n"
    }
   }
  },
  {
   "cell_type": "code",
   "execution_count": 7,
   "outputs": [],
   "source": [],
   "metadata": {
    "collapsed": false,
    "pycharm": {
     "name": "#%%\n"
    }
   }
  }
 ],
 "metadata": {
  "kernelspec": {
   "display_name": "Python 3",
   "language": "python",
   "name": "python3"
  },
  "language_info": {
   "codemirror_mode": {
    "name": "ipython",
    "version": 2
   },
   "file_extension": ".py",
   "mimetype": "text/x-python",
   "name": "python",
   "nbconvert_exporter": "python",
   "pygments_lexer": "ipython2",
   "version": "2.7.6"
  }
 },
 "nbformat": 4,
 "nbformat_minor": 0
}