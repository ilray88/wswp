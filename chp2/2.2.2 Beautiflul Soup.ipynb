{
 "cells": [
  {
   "cell_type": "code",
   "execution_count": 14,
   "metadata": {
    "collapsed": true
   },
   "outputs": [],
   "source": [
    "from bs4 import BeautifulSoup\n",
    "from chp1.advanced_link_crawler import download"
   ]
  },
  {
   "cell_type": "code",
   "execution_count": 15,
   "outputs": [
    {
     "name": "stdout",
     "output_type": "stream",
     "text": [
      "Downloading: http://example.python-scraping.com/view/UnitedKingdom-233\n"
     ]
    }
   ],
   "source": [
    "url = 'http://example.python-scraping.com/view/UnitedKingdom-233'\n",
    "html = download(url)\n",
    "soup = BeautifulSoup(html, 'html.parser')"
   ],
   "metadata": {
    "collapsed": false,
    "pycharm": {
     "name": "#%%\n"
    }
   }
  },
  {
   "cell_type": "code",
   "execution_count": 16,
   "outputs": [
    {
     "name": "stdout",
     "output_type": "stream",
     "text": [
      "244,820 square kilometres\n"
     ]
    }
   ],
   "source": [
    "# locate the area row\n",
    "tr = soup.find(attrs={'id': 'places_area__row'})\n",
    "td = tr.find(attrs={'class': 'w2p_fw'})  # locate the data\n",
    "area = td.text  # extract the data\n",
    "print(area)"
   ],
   "metadata": {
    "collapsed": false,
    "pycharm": {
     "name": "#%%\n"
    }
   }
  },
  {
   "cell_type": "code",
   "execution_count": 17,
   "outputs": [
    {
     "name": "stdout",
     "output_type": "stream",
     "text": [
      "Requirement already satisfied: html5lib in d:\\0ilraypan\\python_work\\env\\hack\\lib\\site-packages (1.1)\n",
      "Requirement already satisfied: webencodings in d:\\0ilraypan\\python_work\\env\\hack\\lib\\site-packages (from html5lib) (0.5.1)\n",
      "Requirement already satisfied: six>=1.9 in d:\\0ilraypan\\python_work\\env\\hack\\lib\\site-packages (from html5lib) (1.16.0)\n"
     ]
    }
   ],
   "source": [
    "!pip install html5lib"
   ],
   "metadata": {
    "collapsed": false,
    "pycharm": {
     "name": "#%%\n"
    }
   }
  },
  {
   "cell_type": "markdown",
   "source": [
    "### brokenhtml"
   ],
   "metadata": {
    "collapsed": false,
    "pycharm": {
     "name": "#%% md\n"
    }
   }
  },
  {
   "cell_type": "code",
   "execution_count": 18,
   "outputs": [],
   "source": [
    "from bs4 import BeautifulSoup\n",
    "from chp1.advanced_link_crawler import download"
   ],
   "metadata": {
    "collapsed": false,
    "pycharm": {
     "name": "#%%\n"
    }
   }
  },
  {
   "cell_type": "code",
   "execution_count": 19,
   "outputs": [],
   "source": [
    "broken_html = '<ul class=country_or_district><li>Area<li>Population</ul>'"
   ],
   "metadata": {
    "collapsed": false,
    "pycharm": {
     "name": "#%%\n"
    }
   }
  },
  {
   "cell_type": "code",
   "execution_count": 20,
   "outputs": [
    {
     "name": "stdout",
     "output_type": "stream",
     "text": [
      "<ul class=\"country_or_district\">\n",
      " <li>\n",
      "  Area\n",
      "  <li>\n",
      "   Population\n",
      "  </li>\n",
      " </li>\n",
      "</ul>\n"
     ]
    }
   ],
   "source": [
    "soup = BeautifulSoup(broken_html, 'html.parser')\n",
    "fixed_html = soup.prettify()\n",
    "print(fixed_html)"
   ],
   "metadata": {
    "collapsed": false,
    "pycharm": {
     "name": "#%%\n"
    }
   }
  },
  {
   "cell_type": "code",
   "execution_count": 22,
   "outputs": [
    {
     "name": "stdout",
     "output_type": "stream",
     "text": [
      "<ul class=\"country_or_district\">\n",
      " <li>\n",
      "  Area\n",
      "  <li>\n",
      "   Population\n",
      "  </li>\n",
      " </li>\n",
      "</ul>\n"
     ]
    }
   ],
   "source": [
    "# still broken, so try a different parser\n",
    "\n",
    "soup = BeautifulSoup(broken_html, 'html.parser')\n",
    "fixed_html = soup.prettify()\n",
    "print(fixed_html)"
   ],
   "metadata": {
    "collapsed": false,
    "pycharm": {
     "name": "#%%\n"
    }
   }
  },
  {
   "cell_type": "code",
   "execution_count": 23,
   "outputs": [
    {
     "name": "stdout",
     "output_type": "stream",
     "text": [
      "<li>Area<li>Population</li></li>\n"
     ]
    }
   ],
   "source": [
    "# now we can try and extract the data from the html\n",
    "\n",
    "ul = soup.find('ul', attrs={'class': 'country_or_district'})\n",
    "print(ul.find('li'))  # returns just the first match"
   ],
   "metadata": {
    "collapsed": false,
    "pycharm": {
     "name": "#%%\n"
    }
   }
  },
  {
   "cell_type": "code",
   "execution_count": 24,
   "outputs": [
    {
     "name": "stdout",
     "output_type": "stream",
     "text": [
      "[<li>Area<li>Population</li></li>, <li>Population</li>]\n"
     ]
    }
   ],
   "source": [
    "print(ul.find_all('li'))  # returns all matches"
   ],
   "metadata": {
    "collapsed": false,
    "pycharm": {
     "name": "#%%\n"
    }
   }
  },
  {
   "cell_type": "code",
   "execution_count": null,
   "outputs": [],
   "source": [],
   "metadata": {
    "collapsed": false,
    "pycharm": {
     "name": "#%%"
    }
   }
  }
 ],
 "metadata": {
  "kernelspec": {
   "name": "pycharm-4aac85bb",
   "language": "python",
   "display_name": "PyCharm (HeiKeGongFang)"
  },
  "language_info": {
   "codemirror_mode": {
    "name": "ipython",
    "version": 2
   },
   "file_extension": ".py",
   "mimetype": "text/x-python",
   "name": "python",
   "nbconvert_exporter": "python",
   "pygments_lexer": "ipython2",
   "version": "2.7.6"
  }
 },
 "nbformat": 4,
 "nbformat_minor": 0
}