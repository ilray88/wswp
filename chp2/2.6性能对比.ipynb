{
 "cells": [
  {
   "cell_type": "code",
   "execution_count": 3,
   "metadata": {
    "collapsed": true
   },
   "outputs": [
    {
     "name": "stdout",
     "output_type": "stream",
     "text": [
      "Downloading: http://example.python-scraping.com/view/United-Kingdom-233\n"
     ]
    }
   ],
   "source": [
    "import time\n",
    "import re\n",
    "from chp2.all_scrapers import re_scraper, bs_scraper, \\\n",
    "    lxml_scraper, lxml_xpath_scraper\n",
    "from chp1.advanced_link_crawler import download\n",
    "\n",
    "NUM_ITERATIONS = 1000  # number of times to test each scraper\n",
    "html = download('http://example.python-scraping.com/view/United-Kingdom-233')\n",
    "\n",
    "scrapers = [\n",
    "    ('Regular expressions', re_scraper),\n",
    "    ('BeautifulSoup', bs_scraper),\n",
    "    ('Lxml', lxml_scraper),\n",
    "    ('Xpath', lxml_xpath_scraper)]"
   ]
  },
  {
   "cell_type": "code",
   "execution_count": 4,
   "outputs": [
    {
     "name": "stdout",
     "output_type": "stream",
     "text": [
      "Regular expressions: 2.55 seconds\n",
      "BeautifulSoup: 14.71 seconds\n",
      "Lxml: 4.55 seconds\n",
      "Xpath: 2.70 seconds\n"
     ]
    }
   ],
   "source": [
    "for name, scraper in scrapers:\n",
    "    # record start time of scrape\n",
    "    start = time.time()\n",
    "    for i in range(NUM_ITERATIONS):\n",
    "        if scraper == re_scraper:\n",
    "            re.purge()\n",
    "        result = scraper(html)\n",
    "        # check scraped result is as expected\n",
    "        assert result['area'] == '244,820 square kilometres'\n",
    "    # record end time of scrape and output the total\n",
    "    end = time.time()\n",
    "    print('%s: %.2f seconds' % (name, end - start))\n"
   ],
   "metadata": {
    "collapsed": false,
    "pycharm": {
     "name": "#%%\n"
    }
   }
  }
 ],
 "metadata": {
  "kernelspec": {
   "name": "pycharm-4aac85bb",
   "language": "python",
   "display_name": "PyCharm (HeiKeGongFang)"
  },
  "language_info": {
   "codemirror_mode": {
    "name": "ipython",
    "version": 2
   },
   "file_extension": ".py",
   "mimetype": "text/x-python",
   "name": "python",
   "nbconvert_exporter": "python",
   "pygments_lexer": "ipython2",
   "version": "2.7.6"
  }
 },
 "nbformat": 4,
 "nbformat_minor": 0
}