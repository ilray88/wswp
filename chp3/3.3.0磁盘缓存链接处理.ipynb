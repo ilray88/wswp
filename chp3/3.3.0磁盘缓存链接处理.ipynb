{
 "cells": [
  {
   "cell_type": "code",
   "execution_count": 1,
   "metadata": {
    "collapsed": true
   },
   "outputs": [
    {
     "name": "stdout",
     "output_type": "stream",
     "text": [
      "http_//example.python-scraping.com/places/default/view/Australia-1\n"
     ]
    }
   ],
   "source": [
    "import re\n",
    "from urllib.parse import urlsplit\n",
    "\n",
    "# how to manage converting urls into filenames\n",
    "\n",
    "url = 'http://example.python-scraping.com/places/default/view/Australia-1'\n",
    "filename = re.sub('[^/0-9a-zA-Z\\-.,;_ ]', '_', url)\n",
    "filename = '/'.join(segment[:255] for segment in filename.split('/'))\n",
    "print(filename)"
   ]
  },
  {
   "cell_type": "code",
   "execution_count": 2,
   "outputs": [],
   "source": [
    "# how to handle edge case where we need to append index.html for parent urls\n",
    "# such as http://example.python-scraping.com/index/\n",
    "\n",
    "components = urlsplit('http://example.python-scraping.com/index/')"
   ],
   "metadata": {
    "collapsed": false,
    "pycharm": {
     "name": "#%%\n"
    }
   }
  },
  {
   "cell_type": "code",
   "execution_count": 3,
   "outputs": [
    {
     "name": "stdout",
     "output_type": "stream",
     "text": [
      "SplitResult(scheme='http', netloc='example.python-scraping.com', path='/index/', query='', fragment='')\n"
     ]
    }
   ],
   "source": [
    "print(components)"
   ],
   "metadata": {
    "collapsed": false,
    "pycharm": {
     "name": "#%%\n"
    }
   }
  },
  {
   "cell_type": "code",
   "execution_count": 4,
   "outputs": [
    {
     "name": "stdout",
     "output_type": "stream",
     "text": [
      "/index/\n"
     ]
    }
   ],
   "source": [
    "print(components.path)"
   ],
   "metadata": {
    "collapsed": false,
    "pycharm": {
     "name": "#%%\n"
    }
   }
  },
  {
   "cell_type": "code",
   "execution_count": 5,
   "outputs": [
    {
     "name": "stdout",
     "output_type": "stream",
     "text": [
      "example.python-scraping.com/index/index.html\n"
     ]
    }
   ],
   "source": [
    "path = components.path\n",
    "if not path:\n",
    "    path = '/index.html'\n",
    "elif path.endswith('/'):\n",
    "    path += 'index.html'\n",
    "filename = components.netloc + path + components.query\n",
    "filename = re.sub('[^/0-9a-zA-Z\\-.,;_ ]', '_', filename)\n",
    "filename = '/'.join(segment[:255] for segment in filename.split('/'))\n",
    "print(filename)\n"
   ],
   "metadata": {
    "collapsed": false,
    "pycharm": {
     "name": "#%%\n"
    }
   }
  },
  {
   "cell_type": "code",
   "execution_count": 5,
   "outputs": [],
   "source": [],
   "metadata": {
    "collapsed": false,
    "pycharm": {
     "name": "#%%"
    }
   }
  }
 ],
 "metadata": {
  "kernelspec": {
   "name": "pycharm-4aac85bb",
   "language": "python",
   "display_name": "PyCharm (HeiKeGongFang)"
  },
  "language_info": {
   "codemirror_mode": {
    "name": "ipython",
    "version": 2
   },
   "file_extension": ".py",
   "mimetype": "text/x-python",
   "name": "python",
   "nbconvert_exporter": "python",
   "pygments_lexer": "ipython2",
   "version": "2.7.6"
  }
 },
 "nbformat": 4,
 "nbformat_minor": 0
}